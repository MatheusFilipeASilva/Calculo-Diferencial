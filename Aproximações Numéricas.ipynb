{
 "cells": [
  {
   "cell_type": "markdown",
   "metadata": {},
   "source": [
    "# Cálculo - Tarefa 02\n",
    "\n",
    "1- Calcule de forma numérica a integral da função $x^3$ avaliada entre os pontos $1$ e $2$. Identifique o número de retângulos que você usou.  \n",
    "2- Calcule essa área de forma analítica."
   ]
  },
  {
   "cell_type": "code",
   "execution_count": 3,
   "metadata": {},
   "outputs": [
    {
     "name": "stdout",
     "output_type": "stream",
     "text": [
      "3.715075\n"
     ]
    }
   ],
   "source": [
    "# intervalo = list[range(1,2,0.01)]\n",
    "soma = 0\n",
    "for c in range(100,200,1):\n",
    "    soma += 0.01*(c/100)**3\n",
    "\n",
    "print(soma)\n",
    "\n",
    "### O valor real é 3,75, ou seja, nossa estimativa está ótima! Mas podemos melhorar. Vamos criar um algorítimo que permita ao usuário definir,\n",
    "### Através de um parâmetro passado pra uma função, quantos retângulos ele quer que sejam usados na aproximação...\n",
    "### A diferença entre os dois algoritmos se deve ao modelo diferente que eu usei para construir ambos, sendo o de cima, por usar um laço for com range,\n",
    "### que não permite um floac como passo, ficou um pouco diferente, provavelmente por questões de arredondamento..."
   ]
  },
  {
   "cell_type": "code",
   "execution_count": 20,
   "metadata": {},
   "outputs": [],
   "source": [
    "def estima_x_aocubo(n_bins):\n",
    "    soma = 0\n",
    "    perc = 1\n",
    "    for c in range(1,n_bins):\n",
    "        soma += (1/n_bins)*perc**3\n",
    "        perc += 1/n_bins\n",
    "    return soma\n"
   ]
  },
  {
   "cell_type": "code",
   "execution_count": 26,
   "metadata": {},
   "outputs": [
    {
     "name": "stdout",
     "output_type": "stream",
     "text": [
      "3.7499988524813825\n"
     ]
    }
   ],
   "source": [
    "estimativa = estima_x_aocubo(10000000)\n",
    "print(estimativa)"
   ]
  },
  {
   "cell_type": "markdown",
   "metadata": {},
   "source": [
    "### 2 - Calcule essa área de forma analítica:"
   ]
  },
  {
   "cell_type": "markdown",
   "metadata": {},
   "source": [
    "$$ \\int_{1}^{2} x^3 \\, dx $$"
   ]
  },
  {
   "cell_type": "markdown",
   "metadata": {},
   "source": [
    "$$=\\left[\\frac{x^4}{4}\\right]_{1}^{2} = \\frac{2^4}{4} - \\frac{1^4}{4} = \\frac{32}{4} - \\frac{1}{4} = \\frac{31}{4} = \n",
    "$$"
   ]
  },
  {
   "cell_type": "code",
   "execution_count": null,
   "metadata": {},
   "outputs": [],
   "source": []
  }
 ],
 "metadata": {
  "kernelspec": {
   "display_name": "Python 3 (ipykernel)",
   "language": "python",
   "name": "python3"
  },
  "language_info": {
   "codemirror_mode": {
    "name": "ipython",
    "version": 3
   },
   "file_extension": ".py",
   "mimetype": "text/x-python",
   "name": "python",
   "nbconvert_exporter": "python",
   "pygments_lexer": "ipython3",
   "version": "3.12.4"
  },
  "toc": {
   "base_numbering": 1,
   "nav_menu": {},
   "number_sections": true,
   "sideBar": true,
   "skip_h1_title": true,
   "title_cell": "Índice",
   "title_sidebar": "Conteúdo",
   "toc_cell": false,
   "toc_position": {},
   "toc_section_display": true,
   "toc_window_display": false
  },
  "varInspector": {
   "cols": {
    "lenName": 16,
    "lenType": 16,
    "lenVar": 40
   },
   "kernels_config": {
    "python": {
     "delete_cmd_postfix": "",
     "delete_cmd_prefix": "del ",
     "library": "var_list.py",
     "varRefreshCmd": "print(var_dic_list())"
    },
    "r": {
     "delete_cmd_postfix": ") ",
     "delete_cmd_prefix": "rm(",
     "library": "var_list.r",
     "varRefreshCmd": "cat(var_dic_list()) "
    }
   },
   "types_to_exclude": [
    "module",
    "function",
    "builtin_function_or_method",
    "instance",
    "_Feature"
   ],
   "window_display": false
  }
 },
 "nbformat": 4,
 "nbformat_minor": 4
}
